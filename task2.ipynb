{
 "cells": [
  {
   "cell_type": "markdown",
   "metadata": {},
   "source": [
    "# Задача №2\n",
    "## 1.2 Напишите функцию, которая из двух списков, делает один словарь, где элементы из первого списка - ключи, а элементы из второго списка - значения\n",
    "keys = ['One', 'Two', 'Three']\n",
    "values = [1,2,3]\n",
    "Используйте аннотирование типов\n",
    "- Используйте цикл for\n",
    "- Используйте dict comprehensions"
   ]
  },
  {
   "cell_type": "code",
   "execution_count": 6,
   "metadata": {},
   "outputs": [
    {
     "data": {
      "text/plain": [
       "{'One': 1, 'Two': 2, 'Three': 3}"
      ]
     },
     "execution_count": 6,
     "metadata": {},
     "output_type": "execute_result"
    }
   ],
   "source": [
    "def dict_new(lst_keys:list ,lst_values: list)->dict:\n",
    "    dictnew = dict()\n",
    "    for i in range(len(lst_keys)):\n",
    "        dictnew[lst_keys[i]]=lst_values[i]\n",
    "    return dictnew\n",
    "dict_new(['One','Two','Three'],[1,2,3])"
   ]
  },
  {
   "cell_type": "markdown",
   "metadata": {},
   "source": [
    "Усложнение [*] Используйте функцию zip. Проверьте на списках разной длины\n",
    "Примеры/Тесты:\n",
    "    <function_name>(keys, values) -> {'One': 1, 'Two': 2, 'Three': 3}"
   ]
  },
  {
   "cell_type": "code",
   "execution_count": 8,
   "metadata": {},
   "outputs": [
    {
     "name": "stdout",
     "output_type": "stream",
     "text": [
      "('One', 1)\n",
      "('Two', 2)\n",
      "('Three', 3)\n"
     ]
    }
   ],
   "source": [
    "keys = ['One', 'Two', 'Three']\n",
    "values = [1,2,3]\n",
    "new=zip(keys, values)\n",
    "for i in new:\n",
    "    print(i)"
   ]
  },
  {
   "cell_type": "code",
   "execution_count": 9,
   "metadata": {},
   "outputs": [
    {
     "name": "stdout",
     "output_type": "stream",
     "text": [
      "{'One': 1, 'Two': 2, 'Three': 3}\n"
     ]
    }
   ],
   "source": [
    "def dict_from_lists(keys:list ,values: list)->dict: \n",
    "    dict_new = dict()\n",
    "    for k,v in zip(keys, values):\n",
    "        dict_new[k]=v\n",
    "\n",
    "\n",
    "    return dict_new\n",
    "print(dict_from_lists(keys,values))\n"
   ]
  }
 ],
 "metadata": {
  "kernelspec": {
   "display_name": "Python 3",
   "language": "python",
   "name": "python3"
  },
  "language_info": {
   "codemirror_mode": {
    "name": "ipython",
    "version": 3
   },
   "file_extension": ".py",
   "mimetype": "text/x-python",
   "name": "python",
   "nbconvert_exporter": "python",
   "pygments_lexer": "ipython3",
   "version": "3.11.3"
  },
  "orig_nbformat": 4
 },
 "nbformat": 4,
 "nbformat_minor": 2
}
